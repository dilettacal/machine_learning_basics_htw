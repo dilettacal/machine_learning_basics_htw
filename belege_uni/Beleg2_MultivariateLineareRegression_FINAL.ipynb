{
 "cells": [
  {
   "cell_type": "markdown",
   "metadata": {},
   "source": [
    "# Beleg2 - Multivariate lineare Regression"
   ]
  },
  {
   "cell_type": "markdown",
   "metadata": {},
   "source": [
    "### Finale Version zur Abgabe\n",
    "Letzte Änderung: Diletta\n",
    "<br/>Timestamp: Montag, 21.05.2018, h: 20.05\n"
   ]
  },
  {
   "cell_type": "markdown",
   "metadata": {},
   "source": [
    "Implementieren Sie die multivariate lineare Regression mit Python und numpy in einem ipython notebook.\n",
    "Hinweis: Ihre Lösung der multivariaten linearen Regression sollte auf numpy basieren und im Prinzip mit beliebig vielen Features zurechtkommen. D.h. es muss eine vektorielle Implementierung vorgenommen werden.\n",
    "\n",
    "Benutzen Sie zur Lösung eine Kostenfunktion und das Gradientenabstiegsverfahren. Beachten Sie dabei folgende Punkte:"
   ]
  },
  {
   "cell_type": "markdown",
   "metadata": {},
   "source": [
    "## Aufgabe 1: Erstellen Sie zuerst zum Testen Ihrer Lösung künstliche Datenwerte für zwei Merkmale (Features): \n",
    "\n",
    "#### X soll dabei eine Datenmatrix mit zwei Spalten sein, wobei die Werte zufällig aus einer Gleichverteilung (konstante Wahrscheinlichkeitsdichte in einem Intervall) gezogen werden."
   ]
  },
  {
   "cell_type": "code",
   "execution_count": 1,
   "metadata": {
    "collapsed": true
   },
   "outputs": [],
   "source": [
    "import numpy as np\n",
    "import matplotlib.pyplot as plt\n",
    "from mpl_toolkits.mplot3d import Axes3D\n"
   ]
  },
  {
   "cell_type": "code",
   "execution_count": 2,
   "metadata": {},
   "outputs": [
    {
     "name": "stdout",
     "output_type": "stream",
     "text": [
      "Matrix: \n"
     ]
    },
    {
     "data": {
      "text/plain": [
       "array([[  1.        ,   9.35062524,  11.49465639],\n",
       "       [  1.        ,  13.06277385,   7.12501979],\n",
       "       [  1.        ,  11.90867358,   8.67831977],\n",
       "       [  1.        ,  10.81663549,   3.15170776],\n",
       "       [  1.        ,   0.34479769,  19.9649227 ],\n",
       "       [  1.        ,   8.26324817,  16.97122526],\n",
       "       [  1.        ,   3.57735082,  10.61054123],\n",
       "       [  1.        ,   0.1368466 ,   3.17554548],\n",
       "       [  1.        ,   5.79374413,  17.97889384],\n",
       "       [  1.        ,  18.23745033,   5.86617339],\n",
       "       [  1.        ,  14.55019814,   7.68820313],\n",
       "       [  1.        ,   1.04828424,   7.9191074 ],\n",
       "       [  1.        ,   6.37686615,  16.96749165],\n",
       "       [  1.        ,  11.44938013,   2.67361563],\n",
       "       [  1.        ,  17.71472269,  19.85068139],\n",
       "       [  1.        ,  14.48776896,   0.09073199],\n",
       "       [  1.        ,   0.32603816,   9.52960719],\n",
       "       [  1.        ,  17.61437255,   6.71691816],\n",
       "       [  1.        ,   1.74164311,  19.3442868 ],\n",
       "       [  1.        ,  16.36598019,   7.32177954],\n",
       "       [  1.        ,   6.31373775,  16.36945207],\n",
       "       [  1.        ,  17.05231542,  18.27101582],\n",
       "       [  1.        ,  19.12250231,  14.52776636],\n",
       "       [  1.        ,   6.39736201,   6.5200006 ],\n",
       "       [  1.        ,   4.71693293,   9.66992239],\n",
       "       [  1.        ,   6.44823603,  12.91622392],\n",
       "       [  1.        ,  19.19960887,   0.07123853],\n",
       "       [  1.        ,   8.38209582,  10.72401099],\n",
       "       [  1.        ,   8.10306883,   9.32517121],\n",
       "       [  1.        ,   2.03051908,   7.09647986],\n",
       "       [  1.        ,   2.60184877,   6.19878235],\n",
       "       [  1.        ,  14.98140777,   7.66241749],\n",
       "       [  1.        ,  10.27423756,   7.85509385],\n",
       "       [  1.        ,  17.76874605,   7.4732644 ],\n",
       "       [  1.        ,  16.30611523,  19.87361176],\n",
       "       [  1.        ,  11.58720338,   5.81679512],\n",
       "       [  1.        ,  11.22305604,   7.50014076],\n",
       "       [  1.        ,   4.67059957,   6.70085072],\n",
       "       [  1.        ,   4.08226782,  11.48329264],\n",
       "       [  1.        ,  17.03503501,   0.66730531],\n",
       "       [  1.        ,   7.08934904,  12.12404037],\n",
       "       [  1.        ,   1.96197833,  16.25591034],\n",
       "       [  1.        ,   8.87191126,  14.47067254],\n",
       "       [  1.        ,   0.50236366,  10.42316933],\n",
       "       [  1.        ,  10.34293144,  13.56680695],\n",
       "       [  1.        ,  17.25800814,   5.39774457],\n",
       "       [  1.        ,  14.68422698,  15.6158869 ],\n",
       "       [  1.        ,  15.62644919,   5.97162062],\n",
       "       [  1.        ,   0.88730115,   1.6263582 ],\n",
       "       [  1.        ,  16.29888859,   8.92606478],\n",
       "       [  1.        ,  18.00041757,   9.97714329],\n",
       "       [  1.        ,   7.99503425,   7.77724448],\n",
       "       [  1.        ,   2.73086755,   0.69774828],\n",
       "       [  1.        ,   2.42849936,   0.06815902],\n",
       "       [  1.        ,  10.37895933,  13.74321026],\n",
       "       [  1.        ,   0.88466881,   8.76335908],\n",
       "       [  1.        ,   4.81647486,   8.63217658],\n",
       "       [  1.        ,  13.63375184,   4.57559091],\n",
       "       [  1.        ,  11.03431626,  16.14315313],\n",
       "       [  1.        ,   6.92760715,  17.58969745],\n",
       "       [  1.        ,  13.60342881,  14.2562104 ],\n",
       "       [  1.        ,   0.6592785 ,   6.15035214],\n",
       "       [  1.        ,   9.48286312,  16.47555952],\n",
       "       [  1.        ,   0.95913343,   5.57362976],\n",
       "       [  1.        ,  16.30294683,  11.12748096],\n",
       "       [  1.        ,   9.73317966,  14.52345012],\n",
       "       [  1.        ,   2.55186269,   7.56984577],\n",
       "       [  1.        ,  13.54090006,  16.92647575],\n",
       "       [  1.        ,   9.10341088,  16.47386627],\n",
       "       [  1.        ,  10.36864565,   9.19464508],\n",
       "       [  1.        ,   7.8320492 ,   8.24183872],\n",
       "       [  1.        ,   7.34193514,  18.96526608],\n",
       "       [  1.        ,  11.49193823,   7.90198778],\n",
       "       [  1.        ,  11.08927045,  17.29023675],\n",
       "       [  1.        ,  13.37921252,  10.07200326],\n",
       "       [  1.        ,   9.15048819,  19.61400916],\n",
       "       [  1.        ,   0.13920366,   9.61219064],\n",
       "       [  1.        ,   0.20036908,  14.08855018],\n",
       "       [  1.        ,   4.93697351,   9.12635906],\n",
       "       [  1.        ,  13.49862282,   4.3276531 ],\n",
       "       [  1.        ,   1.48995792,  12.10378814],\n",
       "       [  1.        ,  14.76814485,   8.76465325],\n",
       "       [  1.        ,   3.78081261,   9.69210931],\n",
       "       [  1.        ,   0.79861015,   6.8126139 ],\n",
       "       [  1.        ,  16.82906519,  12.4844634 ],\n",
       "       [  1.        ,   7.855212  ,  10.10203778],\n",
       "       [  1.        ,   9.50029469,   7.95800916],\n",
       "       [  1.        ,   3.76607951,   2.83050009],\n",
       "       [  1.        ,  13.4140195 ,   4.23421021],\n",
       "       [  1.        ,  12.31484457,   8.56814952],\n",
       "       [  1.        ,   0.10771947,   0.68959473],\n",
       "       [  1.        ,   3.91637044,   6.7038924 ],\n",
       "       [  1.        ,   5.8868425 ,  16.04198032],\n",
       "       [  1.        ,   6.32889177,  19.23847326],\n",
       "       [  1.        ,   8.30663204,  10.03204665],\n",
       "       [  1.        ,  12.76132303,   7.01960529],\n",
       "       [  1.        ,   0.80478706,   3.81281011],\n",
       "       [  1.        ,   7.81012995,  10.69111476],\n",
       "       [  1.        ,   8.04924522,  14.54854415],\n",
       "       [  1.        ,  17.27739003,  13.03219348]])"
      ]
     },
     "execution_count": 2,
     "metadata": {},
     "output_type": "execute_result"
    }
   ],
   "source": [
    "### Aufgabe 1\n",
    "#Interval low-high\n",
    "low = 0\n",
    "high = 20\n",
    "data = 100 #Anzahl der Datensätze\n",
    "merkmale = 2 #Anzahl Spalten\n",
    "\n",
    "#Creates a matrix with normal distributed values \n",
    "myX = np.random.uniform(low,high, (data,merkmale)) #Matrix mit 2 Spalten\n",
    "\n",
    "original_X = myX.copy() #backup original matrix\n",
    "\n",
    "#Inserts in matrix myX, at index 0, a vector of ones along axis 1\n",
    "myX = np.insert(myX, 0, values=1, axis=1)\n",
    "print(\"Matrix: \")\n",
    "myX"
   ]
  },
  {
   "cell_type": "markdown",
   "metadata": {},
   "source": [
    "## Aufgabe 2: Implementieren Sie die Hypothese (lineares Modell) als Python Funktion: linear_hypothesis(theta)\n",
    "\n",
    "#### Die Pythonfunktion soll dabei eine Funktion zurückgeben:"
   ]
  },
  {
   "cell_type": "code",
   "execution_count": 3,
   "metadata": {
    "collapsed": true
   },
   "outputs": [],
   "source": [
    "#calculates linear hypothesis\n",
    "#Parameter: array of thetas\n",
    "\n",
    "def linear_hypothesis(theta):\n",
    "    return lambda X: X.dot(theta) #Function works for any given Matrix X"
   ]
  },
  {
   "cell_type": "markdown",
   "metadata": {},
   "source": [
    "## Aufgabe 3: Generierung, Plotten und Feature Scaling"
   ]
  },
  {
   "cell_type": "markdown",
   "metadata": {},
   "source": [
    "###  a) Nutzen Sie die Funktion linear_hypothesis(theta) zum Generieren künstlicher y-Werte (Zielwerte) für Ihre Merkmalsvektoren (Zeilen von X).  Addieren Sie zusätzich ein gaussches Rauschen auf die einzelnen y-Werte."
   ]
  },
  {
   "cell_type": "code",
   "execution_count": 4,
   "metadata": {},
   "outputs": [
    {
     "name": "stdout",
     "output_type": "stream",
     "text": [
      "Y values without Gaussian error: \n",
      "[ 21.84528164  21.18779364  21.58699335  14.96834325  21.30972039\n",
      "  26.23447343  15.18789206   4.31239209  24.77263797  25.10362372\n",
      "  23.23840128   9.96739164  24.3443578   15.12299576  38.56540408\n",
      "  15.57850095  10.85564535  25.33129072  22.08592991  24.68775972\n",
      "  23.68318983  36.32333124  34.65026867  13.91736261  15.38685532\n",
      "  20.36445995  20.27084739  20.10610681  18.42824004  10.12699893\n",
      "   9.80063112  23.64382525  19.12933141  26.24201044  37.17972699\n",
      "  18.4039985   19.7231968   12.37145029  16.56556046  18.70234033\n",
      "  20.21338941  19.21788867  24.34258379  11.92553299  24.90973839\n",
      "  23.6557527   31.30011388  22.59806981   3.51365935  26.22495337\n",
      "  28.97756086  16.77227873   4.42861584   3.49665838  25.12216959\n",
      "  10.64802789  14.44865144  19.20934274  28.1774694   25.5173046\n",
      "  28.85963921   7.80963064  26.95842264   7.53276319  28.43042779\n",
      "  25.25662977  11.12170846  31.46737582  26.57727716  20.56329073\n",
      "  17.07388792  27.30720122  20.39392601  29.3795072   24.45121578\n",
      "  29.76449735  10.7513943   15.28891926  15.06333258  18.82627592\n",
      "  14.59374606  24.5327981   14.47292192   8.61122406  30.31352859\n",
      "  18.95724978  18.45830385   7.59657959  18.64822971  21.88299409\n",
      "   1.79731419  11.62026283  22.92882283  26.56736503  19.3386787\n",
      "  20.78092832   5.61759716  19.50124471  23.59778937  31.30958351]\n",
      "\n",
      "Y values with Gaussian error: \n",
      "[ 23.33525734  18.57241738  21.72833193  12.42140354  21.72281488\n",
      "  25.6233905   15.3477666    4.26189206  23.79611487  27.17033216\n",
      "  24.38267964   9.09210314  26.42246194  15.58160353  38.69478698\n",
      "  14.76640338  10.86131946  25.65662873  21.91079373  23.23074837\n",
      "  22.21430451  35.83585605  35.00905466  14.9600428   16.87335742\n",
      "  23.32954985  21.19122372  20.72582797  19.18116956  11.42430258\n",
      "   8.99579361  23.6896506   21.65499004  27.31750578  34.79942197\n",
      "  19.74533404  18.33312124  15.45604682  16.008551    18.39884901\n",
      "  23.42578585  20.41383525  24.64334     15.00126009  23.56260075\n",
      "  22.90191701  31.42602653  23.32199557   1.59609532  26.83371729\n",
      "  31.03075395  15.31867859   2.93311923   1.91422975  26.33994423\n",
      "  10.12644137  13.1210934   19.4453439   27.7808068   23.65699739\n",
      "  27.41553274   9.99827213  27.08622367   6.47470403  28.74587276\n",
      "  24.6869258   12.36660819  31.22587546  26.35844871  24.6594837\n",
      "  16.4029894   29.56530925  21.25992044  30.11144036  25.83082172\n",
      "  30.09579674   8.13760201  17.89851815  13.13314437  15.61521561\n",
      "  17.14201581  26.53533708  12.65042092   7.21309613  31.87181977\n",
      "  14.93048016  18.11194108   6.68180287  16.40902316  23.21131318\n",
      "   0.38114102  10.03187432  21.58227903  28.80115329  19.46551404\n",
      "  21.08679878   3.13099138  20.19195858  23.1344113   32.56714672]\n"
     ]
    }
   ],
   "source": [
    "#theta array\n",
    "theta = np.array([1., 1., 1.]) \n",
    "\n",
    "#call function linear_hypothesis\n",
    "h = linear_hypothesis(theta)\n",
    "\n",
    "#Creates y values with function linear_hypothesis\n",
    "y = h(myX)\n",
    "\n",
    "print(\"Y values without Gaussian error: \")\n",
    "print(y) #len(y) == data\n",
    "\n",
    "#Defining mu and sigma for gaussian error\n",
    "mu = 0.0\n",
    "sigma = 1.5 \n",
    "\n",
    "#Adds a Gaussian error to the values\n",
    "y = y + np.random.normal(mu, sigma, data)\n",
    "\n",
    "print(\"\\nY values with Gaussian error: \")\n",
    "print(y)"
   ]
  },
  {
   "cell_type": "markdown",
   "metadata": {},
   "source": [
    "\n",
    "### b) Stellen Sie die X1-X2-Y Werte in einem 3D Plot dar, siehe: http://matplotlib.org/mpl_toolkits/mplot3d/tutorial.html\n",
    "\n",
    "Tutorial von O Really:\n",
    "https://www.oreilly.com/learning/three-dimensional-plotting-in-matplotlib\n"
   ]
  },
  {
   "cell_type": "code",
   "execution_count": 5,
   "metadata": {},
   "outputs": [
    {
     "data": {
      "image/png": "[encoded data removed]",
      "text/plain": [
       "<matplotlib.figure.Figure at 0x6333c5a710>"
      ]
     },
     "metadata": {},
     "output_type": "display_data"
    }
   ],
   "source": [
    "#Plotting    \n",
    "x1 = myX[:,1]\n",
    "x2 = myX[:,2]\n",
    "fig = plt.figure()\n",
    "ax = fig.add_subplot(111, projection='3d')\n",
    "\n",
    "\n",
    "ax.scatter(x1, x2, y, c='r', marker='o')\n",
    "\n",
    "ax.set_xlabel('X1')\n",
    "ax.set_ylabel('X2')\n",
    "ax.set_zlabel('Y')\n",
    "plt.title(\"Data plot\")\n",
    "plt.show()"
   ]
  },
  {
   "cell_type": "markdown",
   "metadata": {},
   "source": [
    "### c) Implementieren Sie das Feature Scaling um neue x' Werte zu berechnen"
   ]
  },
  {
   "cell_type": "code",
   "execution_count": 6,
   "metadata": {
    "collapsed": true
   },
   "outputs": [],
   "source": [
    "#The function receives a vector of values and scales them in a range 0-1\n",
    "def feature_scale(vector):\n",
    "    if(np.std(vector) != 0):\n",
    "        vector = (vector-np.mean(vector))/np.std(vector)\n",
    "    return vector\n"
   ]
  },
  {
   "cell_type": "code",
   "execution_count": 7,
   "metadata": {
    "collapsed": true
   },
   "outputs": [],
   "source": [
    "#scales a matrix \n",
    "def scale_matrix(X):\n",
    "    #skips first column of ones\n",
    "    #for i in range(1,merkmale+1):\n",
    "        #col = X[:,i]\n",
    "        #X[:,i] = feature_scale(col)\n",
    "    X = np.apply_along_axis(feature_scale, 0, X)\n",
    "    return X"
   ]
  },
  {
   "cell_type": "code",
   "execution_count": 8,
   "metadata": {},
   "outputs": [
    {
     "data": {
      "text/plain": [
       "array([[ 1.        ,  0.08842061,  0.27725495],\n",
       "       [ 1.        ,  0.74341253, -0.56170601],\n",
       "       [ 1.        ,  0.53977673, -0.2634757 ],\n",
       "       [ 1.        ,  0.34709152, -1.32457349],\n",
       "       [ 1.        , -1.50061714,  1.90352812],\n",
       "       [ 1.        , -0.10344218,  1.32874456],\n",
       "       [ 1.        , -0.93024768,  0.10750672],\n",
       "       [ 1.        , -1.53730917, -1.31999669],\n",
       "       [ 1.        , -0.53917505,  1.52221479],\n",
       "       [ 1.        ,  1.65646091, -0.80340184],\n",
       "       [ 1.        ,  1.00586185, -0.453576  ],\n",
       "       [ 1.        , -1.3764901 , -0.40924287],\n",
       "       [ 1.        , -0.4362858 ,  1.32802771],\n",
       "       [ 1.        ,  0.45873647, -1.41636616],\n",
       "       [ 1.        ,  1.56422797,  1.88159403],\n",
       "       [ 1.        ,  0.99484651, -1.91227434],\n",
       "       [ 1.        , -1.50392717, -0.10003032],\n",
       "       [ 1.        ,  1.54652164, -0.64006065],\n",
       "       [ 1.        , -1.25415005,  1.78436734],\n",
       "       [ 1.        ,  1.32624843, -0.52392855],\n",
       "       [ 1.        , -0.44742452,  1.21320538],\n",
       "       [ 1.        ,  1.44734919,  1.57830159],\n",
       "       [ 1.        ,  1.81262435,  0.85960563],\n",
       "       [ 1.        , -0.4326694 , -0.67786841],\n",
       "       [ 1.        , -0.72917355, -0.0730901 ],\n",
       "       [ 1.        , -0.4236929 ,  0.5501929 ],\n",
       "       [ 1.        ,  1.82622946, -1.91601705],\n",
       "       [ 1.        , -0.08247205,  0.12929267],\n",
       "       [ 1.        , -0.1317051 , -0.1392816 ],\n",
       "       [ 1.        , -1.20317918, -0.56718561],\n",
       "       [ 1.        , -1.10237063, -0.73954163],\n",
       "       [ 1.        ,  1.08194685, -0.45852679],\n",
       "       [ 1.        ,  0.25138785, -0.42153333],\n",
       "       [ 1.        ,  1.57376015, -0.49484378],\n",
       "       [ 1.        ,  1.31568552,  1.88599661],\n",
       "       [ 1.        ,  0.48305476, -0.81288237],\n",
       "       [ 1.        ,  0.4188026 , -0.48968358],\n",
       "       [ 1.        , -0.73734886, -0.64314557],\n",
       "       [ 1.        , -0.84115735,  0.27507314],\n",
       "       [ 1.        ,  1.44430014, -1.80157349],\n",
       "       [ 1.        , -0.3105714 ,  0.39809534],\n",
       "       [ 1.        , -1.21527289,  1.19140561],\n",
       "       [ 1.        ,  0.00395368,  0.84864374],\n",
       "       [ 1.        , -1.47281533,  0.07153171],\n",
       "       [ 1.        ,  0.26350858,  0.67510347],\n",
       "       [ 1.        ,  1.48364274, -0.89333918],\n",
       "       [ 1.        ,  1.02951064,  1.06852247],\n",
       "       [ 1.        ,  1.19576151, -0.7831562 ],\n",
       "       [ 1.        , -1.40489484, -1.61743737],\n",
       "       [ 1.        ,  1.31441042, -0.21590919],\n",
       "       [ 1.        ,  1.61463755, -0.01410434],\n",
       "       [ 1.        , -0.15076732, -0.43648025],\n",
       "       [ 1.        , -1.07960584, -1.7957285 ],\n",
       "       [ 1.        , -1.13295735, -1.9166083 ],\n",
       "       [ 1.        ,  0.26986553,  0.70897253],\n",
       "       [ 1.        , -1.40535931, -0.24714834],\n",
       "       [ 1.        , -0.71160982, -0.2723351 ],\n",
       "       [ 1.        ,  0.84415903, -1.05119094],\n",
       "       [ 1.        ,  0.38550032,  1.16975647],\n",
       "       [ 1.        , -0.33911003,  1.44748991],\n",
       "       [ 1.        ,  0.83880867,  0.80746747],\n",
       "       [ 1.        , -1.44512841, -0.74884013],\n",
       "       [ 1.        ,  0.11175339,  1.23357779],\n",
       "       [ 1.        , -1.39222036, -0.8595696 ],\n",
       "       [ 1.        ,  1.31512647,  0.20675805],\n",
       "       [ 1.        ,  0.15592062,  0.85877692],\n",
       "       [ 1.        , -1.11119045, -0.47630036],\n",
       "       [ 1.        ,  0.82777575,  1.32015275],\n",
       "       [ 1.        ,  0.04480075,  1.23325269],\n",
       "       [ 1.        ,  0.26804573, -0.16434234],\n",
       "       [ 1.        , -0.1795253 , -0.34727914],\n",
       "       [ 1.        , -0.26600372,  1.71159617],\n",
       "       [ 1.        ,  0.46624565, -0.4125298 ],\n",
       "       [ 1.        ,  0.39519674,  1.38999409],\n",
       "       [ 1.        ,  0.79924671,  0.00410857],\n",
       "       [ 1.        ,  0.05310733,  1.83615346],\n",
       "       [ 1.        , -1.53689328, -0.08417448],\n",
       "       [ 1.        , -1.52610091,  0.77527706],\n",
       "       [ 1.        , -0.69034838, -0.17745311],\n",
       "       [ 1.        ,  0.82031612, -1.09879448],\n",
       "       [ 1.        , -1.29855877,  0.39420696],\n",
       "       [ 1.        ,  1.04431757, -0.24689986],\n",
       "       [ 1.        , -0.89434776, -0.06883026],\n",
       "       [ 1.        , -1.42054397, -0.62168727],\n",
       "       [ 1.        ,  1.40795769,  0.4672958 ],\n",
       "       [ 1.        , -0.17543832,  0.00987513],\n",
       "       [ 1.        ,  0.11482911, -0.40177381],\n",
       "       [ 1.        , -0.89694735, -1.38624468],\n",
       "       [ 1.        ,  0.80538825, -1.11673531],\n",
       "       [ 1.        ,  0.61144378, -0.28462816],\n",
       "       [ 1.        , -1.54244852, -1.79729397],\n",
       "       [ 1.        , -0.8704292 , -0.64256157],\n",
       "       [ 1.        , -0.52274827,  1.1503315 ],\n",
       "       [ 1.        , -0.44475066,  1.76405137],\n",
       "       [ 1.        , -0.09578729, -0.00356301],\n",
       "       [ 1.        ,  0.69022289, -0.58194537],\n",
       "       [ 1.        , -1.41945408, -1.19764324],\n",
       "       [ 1.        , -0.18339285,  0.12297667],\n",
       "       [ 1.        , -0.14120204,  0.86359493],\n",
       "       [ 1.        ,  1.48706259,  0.57245881]])"
      ]
     },
     "execution_count": 8,
     "metadata": {},
     "output_type": "execute_result"
    }
   ],
   "source": [
    "myX = scale_matrix(myX)\n",
    "myX"
   ]
  },
  {
   "cell_type": "markdown",
   "metadata": {},
   "source": [
    "## Aufgabe 4: Implementieren Sie die Kostenfunktion J als Python Funktion: cost_function(x, y)\n",
    "#### Die Pythonfunktion soll dabei eine Funktion zurückgeben, die die denParametervektor theta aufnimmt.\n",
    "- j = cost_function(X, y) \n",
    "- print j(theta)\n",
    "- 41.20 # Wert abhaengig von X und y\n"
   ]
  },
  {
   "cell_type": "code",
   "execution_count": 9,
   "metadata": {},
   "outputs": [
    {
     "name": "stdout",
     "output_type": "stream",
     "text": [
      "203.191529938\n"
     ]
    }
   ],
   "source": [
    "# Aufgabe 4\n",
    "#given a matrix and hypothesis values (y values) calculate the cost function\n",
    "def cost_function(X,y):\n",
    "    m = data\n",
    "    return lambda theta: 1./(2*m)*((linear_hypothesis(theta)(X)-y)**2).sum()\n",
    "\n",
    "\n",
    "j = cost_function(myX,y) #y values not scaled\n",
    "print(j(theta)) #theta=[1,1,1]\n",
    "\n",
    "##### das ist die Kostenfuntkion mit skalierten y-Werten, mit theta=1,1,1 kommt 0.0 als Ergebnis raus!!!!!\n",
    "#thetas = [1.2,2,4]\n",
    "#jj = cost_function(myX,y_scaled)\n",
    "#print(jj(thetas))"
   ]
  },
  {
   "cell_type": "markdown",
   "metadata": {},
   "source": [
    "## Aufgabe 5: Implementieren Sie das Gradientenabstiegsverfahren unter Benutzung der Kostenfunktion und der linearen Hypothese."
   ]
  },
  {
   "cell_type": "markdown",
   "metadata": {},
   "source": [
    "## 5a) Schreiben Sie eine Funktion die die Update Rules anwendet zur Berechnung der neuen theta-Werte:\n",
    "theta = compute_new_theta(x, y, theta, alpha)\n"
   ]
  },
  {
   "cell_type": "code",
   "execution_count": 10,
   "metadata": {},
   "outputs": [
    {
     "name": "stdout",
     "output_type": "stream",
     "text": [
      "[ 1.37934328  1.09849366  1.09237602]\n",
      "[ 2.89671641  1.49246828  1.46188012]\n"
     ]
    }
   ],
   "source": [
    "def compute_new_theta(X,y,theta,alpha):\n",
    "    m = data\n",
    "    new_thetas = theta-alpha*(1.0/m)*np.dot(X.T,((linear_hypothesis(theta)(X))-y))\n",
    "    return new_thetas\n",
    "\n",
    "#Test method call with alpha 0.02 or 0.1\n",
    "print(compute_new_theta(myX,y,theta, 0.02))    \n",
    "print(compute_new_theta(myX,y,theta, 0.1))  "
   ]
  },
  {
   "cell_type": "markdown",
   "metadata": {},
   "source": [
    "## 5b) Wählen Sie Startwerte in der Umgebung des Miniums der Kostenfunktion für theta. \n",
    "#Wenden Sie iterativ die compute_new_theta Funktion an und finden Sie so ein Theta mit niedrigen Kosten.\n",
    "Kapseln Sie dies in eine Funktion:\n",
    "gradient_descent(alpha, theta, nb_iterations, X, y)"
   ]
  },
  {
   "cell_type": "code",
   "execution_count": 11,
   "metadata": {
    "collapsed": true
   },
   "outputs": [],
   "source": [
    "def gradient_descent(alpha, theta, nb_iterations, X, y):\n",
    "    #Stores costs for each iteration\n",
    "    costs = [] #cost = np.zeros(nb_iterations)\n",
    "       \n",
    "    #stores changes in theta for each iteration\n",
    "    temp_thetas = np.matrix(np.zeros(myX.shape))\n",
    "    #print(temp_thetas)\n",
    "    \n",
    "    #starting cost value\n",
    "    j = cost_function(X,y)(theta)\n",
    "    \n",
    "    costs.append(j)   \n",
    "    \n",
    "    #Iterates all nb_iterations\n",
    "    for i in range(nb_iterations-1):\n",
    "        #compute new thetas\n",
    "        temp_thetas = compute_new_theta(X,y,theta,alpha)\n",
    "        #update\n",
    "        theta = temp_thetas\n",
    "        #new cost function is computed   \n",
    "        j = cost_function(X,y)\n",
    "        cost = j(theta)\n",
    "        #new cost appended\n",
    "        costs.append(cost)\n",
    "\n",
    "    return {'theta': theta, \"costs\": costs, \"last\": costs[len(costs)-1]}\n"
   ]
  },
  {
   "cell_type": "code",
   "execution_count": 12,
   "metadata": {
    "collapsed": true
   },
   "outputs": [],
   "source": [
    "iterations = 600\n",
    "alpha = 0.01\n",
    "theta = [0.,0.,0.]\n",
    "gr1 = gradient_descent(alpha, theta, iterations, myX, y)\n",
    "computed_theta = gr1['theta']\n",
    "#print(gr1['costs'])#last cost"
   ]
  },
  {
   "cell_type": "markdown",
   "metadata": {},
   "source": [
    "## 5c) Plotten Sie den Fortschritt (Verringerung der Kosten über den Iterationen) für 5b"
   ]
  },
  {
   "cell_type": "code",
   "execution_count": 13,
   "metadata": {},
   "outputs": [
    {
     "data": {
      "image/png": "[encoded data removed]",
      "text/plain": [
       "<matplotlib.figure.Figure at 0x6333c41550>"
      ]
     },
     "metadata": {},
     "output_type": "display_data"
    }
   ],
   "source": [
    "# Aufgabe 5c\n",
    "import matplotlib.pyplot as plt\n",
    "fig = plt.figure()\n",
    "#ax = fig.add_subplot(111, projection='3d')\n",
    "plt.plot(gr1['costs'])\n",
    "plt.show()"
   ]
  },
  {
   "cell_type": "markdown",
   "metadata": {},
   "source": [
    "# 6) Stellen Sie die gefundene Hyperebene in einem 3D Plot zusammen mit den Daten dar"
   ]
  },
  {
   "cell_type": "code",
   "execution_count": 17,
   "metadata": {},
   "outputs": [
    {
     "ename": "ValueError",
     "evalue": "shapes (3,) and (101,) not aligned: 3 (dim 0) != 101 (dim 0)",
     "output_type": "error",
     "traceback": [
      "\u001b[1;31m---------------------------------------------------------------------------\u001b[0m",
      "\u001b[1;31mValueError\u001b[0m                                Traceback (most recent call last)",
      "\u001b[1;32m<ipython-input-17-ce58b308a3a5>\u001b[0m in \u001b[0;36m<module>\u001b[1;34m()\u001b[0m\n\u001b[0;32m      9\u001b[0m \u001b[1;33m\u001b[0m\u001b[0m\n\u001b[0;32m     10\u001b[0m \u001b[1;31m#Values for Z calculated with linear_hypothesis on the last computed thetas (gr1 above)\u001b[0m\u001b[1;33m\u001b[0m\u001b[1;33m\u001b[0m\u001b[0m\n\u001b[1;32m---> 11\u001b[1;33m \u001b[0myvalues\u001b[0m \u001b[1;33m=\u001b[0m \u001b[0mnp\u001b[0m\u001b[1;33m.\u001b[0m\u001b[0mapply_along_axis\u001b[0m\u001b[1;33m(\u001b[0m\u001b[0mlinear_hypothesis\u001b[0m\u001b[1;33m(\u001b[0m\u001b[0mcomputed_theta\u001b[0m\u001b[1;33m)\u001b[0m\u001b[1;33m,\u001b[0m \u001b[1;36m1\u001b[0m\u001b[1;33m,\u001b[0m \u001b[0mmatrixMeshed\u001b[0m\u001b[1;33m)\u001b[0m\u001b[1;33m\u001b[0m\u001b[0m\n\u001b[0m\u001b[0;32m     12\u001b[0m \u001b[0myvalues\u001b[0m \u001b[1;33m=\u001b[0m \u001b[0myvalues\u001b[0m\u001b[1;33m.\u001b[0m\u001b[0mreshape\u001b[0m\u001b[1;33m(\u001b[0m\u001b[0mX1mesh\u001b[0m\u001b[1;33m.\u001b[0m\u001b[0mshape\u001b[0m\u001b[1;33m)\u001b[0m \u001b[1;31m#yvalues gets the shape of X1mesh (data,data)\u001b[0m\u001b[1;33m\u001b[0m\u001b[0m\n\u001b[0;32m     13\u001b[0m \u001b[1;33m\u001b[0m\u001b[0m\n",
      "\u001b[1;32m~\\Anaconda3\\lib\\site-packages\\numpy\\lib\\shape_base.py\u001b[0m in \u001b[0;36mapply_along_axis\u001b[1;34m(func1d, axis, arr, *args, **kwargs)\u001b[0m\n\u001b[0;32m    114\u001b[0m     \u001b[1;32mexcept\u001b[0m \u001b[0mStopIteration\u001b[0m\u001b[1;33m:\u001b[0m\u001b[1;33m\u001b[0m\u001b[0m\n\u001b[0;32m    115\u001b[0m         \u001b[1;32mraise\u001b[0m \u001b[0mValueError\u001b[0m\u001b[1;33m(\u001b[0m\u001b[1;34m'Cannot apply_along_axis when any iteration dimensions are 0'\u001b[0m\u001b[1;33m)\u001b[0m\u001b[1;33m\u001b[0m\u001b[0m\n\u001b[1;32m--> 116\u001b[1;33m     \u001b[0mres\u001b[0m \u001b[1;33m=\u001b[0m \u001b[0masanyarray\u001b[0m\u001b[1;33m(\u001b[0m\u001b[0mfunc1d\u001b[0m\u001b[1;33m(\u001b[0m\u001b[0minarr_view\u001b[0m\u001b[1;33m[\u001b[0m\u001b[0mind0\u001b[0m\u001b[1;33m]\u001b[0m\u001b[1;33m,\u001b[0m \u001b[1;33m*\u001b[0m\u001b[0margs\u001b[0m\u001b[1;33m,\u001b[0m \u001b[1;33m**\u001b[0m\u001b[0mkwargs\u001b[0m\u001b[1;33m)\u001b[0m\u001b[1;33m)\u001b[0m\u001b[1;33m\u001b[0m\u001b[0m\n\u001b[0m\u001b[0;32m    117\u001b[0m \u001b[1;33m\u001b[0m\u001b[0m\n\u001b[0;32m    118\u001b[0m     \u001b[1;31m# build a buffer for storing evaluations of func1d.\u001b[0m\u001b[1;33m\u001b[0m\u001b[1;33m\u001b[0m\u001b[0m\n",
      "\u001b[1;32m<ipython-input-3-94564e3dd4c4>\u001b[0m in \u001b[0;36m<lambda>\u001b[1;34m(X)\u001b[0m\n\u001b[0;32m      3\u001b[0m \u001b[1;33m\u001b[0m\u001b[0m\n\u001b[0;32m      4\u001b[0m \u001b[1;32mdef\u001b[0m \u001b[0mlinear_hypothesis\u001b[0m\u001b[1;33m(\u001b[0m\u001b[0mtheta\u001b[0m\u001b[1;33m)\u001b[0m\u001b[1;33m:\u001b[0m\u001b[1;33m\u001b[0m\u001b[0m\n\u001b[1;32m----> 5\u001b[1;33m     \u001b[1;32mreturn\u001b[0m \u001b[1;32mlambda\u001b[0m \u001b[0mX\u001b[0m\u001b[1;33m:\u001b[0m \u001b[0mX\u001b[0m\u001b[1;33m.\u001b[0m\u001b[0mdot\u001b[0m\u001b[1;33m(\u001b[0m\u001b[0mtheta\u001b[0m\u001b[1;33m)\u001b[0m \u001b[1;31m#Function works for any given Matrix X\u001b[0m\u001b[1;33m\u001b[0m\u001b[0m\n\u001b[0m",
      "\u001b[1;31mValueError\u001b[0m: shapes (3,) and (101,) not aligned: 3 (dim 0) != 101 (dim 0)"
     ]
    }
   ],
   "source": [
    "#Retrieves column X1 and X2 from original matrix myX\n",
    "X1 =myX[:,[1,]].flatten()#selection of all rows. Of each row then the first column\n",
    "X2 =myX[:,[2,]].flatten()\n",
    "\n",
    "#Creates a meshgrid of the matrix columns X1 and X2 \n",
    "X1mesh, X2mesh = np.meshgrid(X1,X2)\n",
    "matrixMeshed = np.column_stack((X1mesh.ravel(),X2mesh.ravel()))\n",
    "matrixMeshed = np.insert(matrixMeshed, 0, values=1, axis=1) #füge 1 als erste Spalte ein\n",
    "\n",
    "#Values for Z calculated with linear_hypothesis on the last computed thetas (gr1 above)\n",
    "yvalues = np.apply_along_axis(linear_hypothesis(computed_theta), 1, matrixMeshed) \n",
    "yvalues = yvalues.reshape(X1mesh.shape) #yvalues gets the shape of X1mesh (data,data)\n",
    "\n",
    "\n",
    "fig = plt.figure()\n",
    "ax = fig.add_subplot(111, projection='3d')\n",
    "\n",
    "%matplotlib notebook\n",
    "#ax.plot_wireframe(X1mesh, X2mesh, yvalues, rstride=4, cstride=4, alpha=0.4)\n",
    "ax.plot_surface(X1mesh, X2mesh , yvalues, cmap='Oranges_r', alpha=0.01)\n",
    "ax.scatter(X1,X2,y, c='r')\n",
    "plt.title(\"3D Plot\")\n",
    "ax.set_xlabel('X1')\n",
    "ax.set_ylabel('X2')\n",
    "ax.set_zlabel('y')\n",
    "plt.show()"
   ]
  },
  {
   "cell_type": "markdown",
   "metadata": {},
   "source": [
    "## Test mit mehreren Features "
   ]
  },
  {
   "cell_type": "code",
   "execution_count": 15,
   "metadata": {},
   "outputs": [
    {
     "data": {
      "image/png": "[encoded data removed]",
      "text/plain": [
       "<matplotlib.figure.Figure at 0x63327a0ef0>"
      ]
     },
     "metadata": {},
     "output_type": "display_data"
    }
   ],
   "source": [
    "low = 0\n",
    "high = 50\n",
    "cols = 100 #features\n",
    "row = 50\n",
    "grossX = np.random.uniform(low,high, (row,cols))\n",
    "grossX = np.insert(grossX, 0, values=1, axis=1)\n",
    "#print(grossX)\n",
    "thetas = np.ones(cols+1)\n",
    "h = linear_hypothesis(thetas)\n",
    "y_val = h(grossX)\n",
    "y_val = y_val +np.random.normal(0, 1.5, row)\n",
    "\n",
    "iterations = 2500\n",
    "alpha = 0.00002\n",
    "grr = gradient_descent(alpha, thetas, iterations, grossX, y_val)\n",
    "computed_theta = grr['theta']\n",
    "\n",
    "fig = plt.figure()\n",
    "plt.plot(grr['costs'])\n",
    "plt.show()"
   ]
  }
 ],
 "metadata": {
  "kernelspec": {
   "display_name": "Python [default]",
   "language": "python",
   "name": "python3"
  },
  "language_info": {
   "codemirror_mode": {
    "name": "ipython",
    "version": 3
   },
   "file_extension": ".py",
   "mimetype": "text/x-python",
   "name": "python",
   "nbconvert_exporter": "python",
   "pygments_lexer": "ipython3",
   "version": "3.7.0"
  }
 },
 "nbformat": 4,
 "nbformat_minor": 2
}
