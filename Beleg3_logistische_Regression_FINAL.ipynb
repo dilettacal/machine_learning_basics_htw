{
 "cells": [
  {
   "cell_type": "markdown",
   "metadata": {},
   "source": [
    "# Beleg3 - Logistische Regression und Regulierung\n",
    "#### Erweitern Sie Ihre Lösung zur multivariaten Regression um die logistische Regression."
   ]
  },
  {
   "cell_type": "markdown",
   "metadata": {},
   "source": [
    "#### Lineare Hypothesis aus Beleg2"
   ]
  },
  {
   "cell_type": "code",
   "execution_count": null,
   "metadata": {
    "collapsed": true
   },
   "outputs": [],
   "source": [
    "def linear_hypothesis(theta):\n",
    "    return lambda X: X.dot(theta) "
   ]
  },
  {
   "cell_type": "markdown",
   "metadata": {},
   "source": [
    "#### Cost function - E_in error (Beleg 2)"
   ]
  },
  {
   "cell_type": "code",
   "execution_count": null,
   "metadata": {
    "collapsed": true
   },
   "outputs": [],
   "source": [
    "def linear_cost_function(X,y):\n",
    "    m = X.shape[0]\n",
    "    return lambda theta: 1./(2*m)*((linear_hypothesis(theta)(X)-y)**2).sum()"
   ]
  },
  {
   "cell_type": "markdown",
   "metadata": {},
   "source": [
    "## Aufgabe 1\n",
    "#### Erstellen Sie zuerst zum Testen Ihrer Lösung künstliche Datenwerte für zwei Merkmale (Features)"
   ]
  },
  {
   "cell_type": "code",
   "execution_count": null,
   "metadata": {
    "collapsed": true,
    "scrolled": true
   },
   "outputs": [],
   "source": [
    "import numpy as np\n",
    "import matplotlib.pyplot as plt\n",
    "from mpl_toolkits.mplot3d import Axes3D"
   ]
  },
  {
   "cell_type": "code",
   "execution_count": null,
   "metadata": {
    "collapsed": true,
    "scrolled": false
   },
   "outputs": [],
   "source": [
    "# artifical dataset for logistic regression\n",
    "import numpy as np\n",
    "import matplotlib.pyplot as plt\n",
    "\n",
    "# class 0: covariance matrix and mean\n",
    "cov0 = np.array([[5,-3],[-3,3]])\n",
    "mean0 = np.array([2.,3])\n",
    "\n",
    "# number of data points\n",
    "m0 = 1000\n",
    "# generate m0 gaussian distributed data points with mean0 and cov\n",
    "r0 = np.random.multivariate_normal(mean0, cov0, m0) #(1000,2)\n",
    "\n",
    "# covariance matrix\n",
    "cov1 = np.array([[5,-3],[-3,3]])\n",
    "mean1 = np.array([1.,1])\n",
    "m1 = 1000\n",
    "r1 = np.random.multivariate_normal(mean1, cov1, m1) #(1000,2)\n",
    "\n",
    "plt.scatter(r0[...,0], r0[...,1], c='b', marker='o', label=\"Klasse 0\")\n",
    "plt.scatter(r1[...,0], r1[...,1], c='r', marker='x', label=\"Klasse 1\")\n",
    "plt.xlabel(\"x0\")\n",
    "plt.ylabel(\"x1\")\n",
    "plt.title(\"Data\")\n",
    "plt.legend(frameon=True, fancybox=True)\n",
    "plt.show()"
   ]
  },
  {
   "cell_type": "code",
   "execution_count": null,
   "metadata": {
    "collapsed": true
   },
   "outputs": [],
   "source": [
    "# generate matrix\n",
    "X = np.concatenate((r0,r1))\n",
    "y = np.zeros(len(r0)+len(r1))\n",
    "y[:len(r0),] = 1\n",
    "\n",
    "print(y)\n",
    "raw_X = X.copy()\n",
    "raw_X"
   ]
  },
  {
   "cell_type": "code",
   "execution_count": null,
   "metadata": {
    "collapsed": true
   },
   "outputs": [],
   "source": [
    "# insert first column of ones into matrxi\n",
    "X= np.insert(X, 0, values=1, axis=1) \n",
    "train_samples = X.shape[0]"
   ]
  },
  {
   "cell_type": "code",
   "execution_count": null,
   "metadata": {
    "collapsed": true
   },
   "outputs": [],
   "source": [
    "print(\"Amount of training data: \", train_samples)\n",
    "print(\"X Matrix:\")\n",
    "print(X)"
   ]
  },
  {
   "cell_type": "markdown",
   "metadata": {},
   "source": [
    "### Logistic function (Sigmoid):\n",
    "\n",
    "Funktion mit folgendem Output: $0 \\leq g(z) \\leq 1$ --> $g(z) = \\frac{1}{1 + \\exp(-z)}$\n",
    "\n",
    "### Logistische Regressionshypothesis:\n",
    "\n",
    "$h_\\theta(\\vec x) = g(\\vec \\theta^T \\vec x)$\n",
    "\n",
    "## g(z): \n",
    "\n",
    "$h_\\theta(\\vec x) =  \\frac{1}{1 + \\exp(-\\vec \\theta^T \\vec x)}$ -----> $h_\\theta(\\vec x) = p(y=1 \\mid {\\vec x}, \\theta)$"
   ]
  },
  {
   "cell_type": "code",
   "execution_count": null,
   "metadata": {
    "collapsed": true,
    "scrolled": true
   },
   "outputs": [],
   "source": [
    "#Calculates the sigmoid / logistic function g(z)\n",
    "def logistic_function(z):\n",
    "    return(1 / (1 + np.exp(-z)))"
   ]
  },
  {
   "cell_type": "code",
   "execution_count": null,
   "metadata": {
    "collapsed": true
   },
   "outputs": [],
   "source": [
    "# plot in range -5 to 5\n",
    "x = np.arange(-5, 5, 0.1)\n",
    "sigmoid = logistic_function(x)\n",
    "fig, ax = plt.subplots()\n",
    "ax.grid(linestyle='-')\n",
    "ax.set_xlabel(\"Input\")\n",
    "ax.set_ylabel(\"Logistic function\")\n",
    "plt.legend(('Logistic Regression Model', ''), loc=\"lower right\", fontsize='small')\n",
    "plt.axhline(.5, color='.5')   #y=0.5\n",
    "plt.xticks(range(-5, 10))\n",
    "plt.yticks([0, 0.5, 1])\n",
    "plt.xlim(-5, 5)\n",
    "plt.plot(x,sigmoid)\n",
    "plt.show()"
   ]
  },
  {
   "cell_type": "markdown",
   "metadata": {},
   "source": [
    "## Aufgabe 2\n",
    "#### Implementieren Sie die Hypothese als Python Funktion:\n",
    "\n",
    "#### Logistische Hypothese (Formel):\n",
    "\n",
    "$$h_\\Theta(x) = \\frac{1}{1+exp(-_\\Theta ^Tx)}$$"
   ]
  },
  {
   "cell_type": "code",
   "execution_count": null,
   "metadata": {
    "collapsed": true,
    "scrolled": true
   },
   "outputs": [],
   "source": [
    "def logistic_hypothesis(theta):\n",
    "    return lambda X: logistic_function(X.dot(theta))"
   ]
  },
  {
   "cell_type": "markdown",
   "metadata": {},
   "source": [
    "## Aufgabe 3\n",
    "#### Implementieren Sie den Cross-Entropy-Loss und den Squared-Error-Loss als Python Funktion. Die Pythonfunktion soll dabei eine Funktion zurückgeben:\n"
   ]
  },
  {
   "cell_type": "code",
   "execution_count": null,
   "metadata": {
    "collapsed": true
   },
   "outputs": [],
   "source": [
    "def cross_entropy(h, X, y):\n",
    "    return lambda theta: (np.multiply(y, np.log(h(theta)(X)))) + (np.multiply((1-y), np.log(1-h(theta)(X))))\n",
    "\n",
    "# test\n",
    "loss = cross_entropy(logistic_hypothesis, X, y)\n",
    "theta_attempt = np.array([0, 2, 0])\n",
    "print(\"test of cross_entropy function:\")\n",
    "print(loss(theta_attempt))   "
   ]
  },
  {
   "cell_type": "markdown",
   "metadata": {},
   "source": [
    "# Aufgabe 4\n",
    "#### Implementieren Sie die Kostenfunktion J als Python Funktion:\n",
    "Zusätzlich zu X und y soll die Funktion die Hypothese h und den Loss aufnehmen.\n",
    "Die Pythonfunktion soll dabei eine Funktion zurückgeben, die den Parametervektor theta aufnimmt."
   ]
  },
  {
   "cell_type": "markdown",
   "metadata": {},
   "source": [
    "## Cost function\n",
    "$\\large J(\\theta) = \\frac{1}{m}\\sum_{i=1}^{m}\\big[-y^{(i)}\\, log\\,( h_\\theta\\,(x^{(i)}))-(1-y^{(i)})\\,log\\,(1-h_\\theta(x^{(i)}))\\big]$"
   ]
  },
  {
   "cell_type": "code",
   "execution_count": null,
   "metadata": {
    "collapsed": true,
    "scrolled": true
   },
   "outputs": [],
   "source": [
    "# parameter train stands for the amount of training data\n",
    "# this makes the function callable outside of this context  \n",
    "def cost_function(loss_, theta, train):\n",
    "    m = train\n",
    "    return -(1./m) * loss_(theta).sum()"
   ]
  },
  {
   "cell_type": "code",
   "execution_count": null,
   "metadata": {
    "collapsed": true
   },
   "outputs": [],
   "source": [
    "# test\n",
    "thetas =  np.array([0, 0.5, 0.5])\n",
    "j = cost_function(loss, thetas, train_samples)\n",
    "print(\"test of cost_function:\")\n",
    "print(j)"
   ]
  },
  {
   "cell_type": "markdown",
   "metadata": {},
   "source": [
    "## Aufgabe 5\n",
    "#### Implementieren Sie das Gradientenabstiegsverfahren unter Benutzung der Kostenfunktion und der Hypothese"
   ]
  },
  {
   "cell_type": "markdown",
   "metadata": {},
   "source": [
    "### 5a) Schreiben Sie eine Funktion die die Update Rules anwendet zur Berechnung der neuen theta-Werte:"
   ]
  },
  {
   "cell_type": "code",
   "execution_count": null,
   "metadata": {
    "collapsed": true
   },
   "outputs": [],
   "source": [
    "def compute_new_theta(X, y, theta, alpha, hypothesis):\n",
    "    m = y.shape[0]\n",
    "    new_thetas = theta-alpha*(1.0/m)*(np.dot(X.T,((hypothesis(theta)(X))-y)))\n",
    "    return new_thetas\n",
    "\n",
    "# test\n",
    "h = logistic_hypothesis\n",
    "print(\"test of compute_new_theta:\")\n",
    "print(compute_new_theta(X, y, thetas, 0.01, h))"
   ]
  },
  {
   "cell_type": "markdown",
   "metadata": {},
   "source": [
    "### 5b) Wählen Sie Startwerte in der Umgebung des Miniums der Kostenfunktion für theta.\n",
    "#### Wenden Sie iterativ die compute_new_theta Funktion an und finden Sie so ein Theta mit niedrigen Kosten. Kapseln Sie dies in eine Funktion:"
   ]
  },
  {
   "cell_type": "code",
   "execution_count": null,
   "metadata": {
    "collapsed": true,
    "scrolled": true
   },
   "outputs": [],
   "source": [
    "def gradient_descent(alpha, theta, nb_iterations, X_, y):\n",
    "    #Stores costs for each iteration\n",
    "    costs = [] #cost = np.zeros(nb_iterations)\n",
    "       \n",
    "    #stores changes in theta for each iteration\n",
    "    temp_thetas = np.matrix(np.zeros(X_.shape))\n",
    "\n",
    "    loss = cross_entropy(logistic_hypothesis, X_, y)\n",
    "    \n",
    "    #starting cost value\n",
    "    j = cost_function(loss,theta, X_.shape[0])\n",
    "    \n",
    "    costs.append(j)   \n",
    "    \n",
    "    #Iterates all nb_iterations\n",
    "    for i in range(nb_iterations-1):\n",
    "        #compute new thetas\n",
    "        temp_thetas = compute_new_theta(X_,y,theta,alpha,logistic_hypothesis)\n",
    "        #update\n",
    "        theta = temp_thetas\n",
    "        #new cost function is computed \n",
    "        loss = cross_entropy(logistic_hypothesis, X_, y)\n",
    "        j = cost_function(loss, theta, X_.shape[0])\n",
    "        cost = j\n",
    "        #new cost appended\n",
    "        costs.append(cost)\n",
    "\n",
    "    return {'theta': theta, \"costs\": costs, \"last_cost\": costs[nb_iterations-1]}"
   ]
  },
  {
   "cell_type": "markdown",
   "metadata": {},
   "source": [
    "#### Gradient descent for different theta arrays"
   ]
  },
  {
   "cell_type": "code",
   "execution_count": null,
   "metadata": {
    "collapsed": true,
    "scrolled": true
   },
   "outputs": [],
   "source": [
    "import matplotlib.pyplot as plt "
   ]
  },
  {
   "cell_type": "code",
   "execution_count": null,
   "metadata": {
    "collapsed": true
   },
   "outputs": [],
   "source": [
    "initial_theta = np.zeros(3)\n",
    "iteration = 15000\n",
    "print(\"iterations: 15000, alpha: 0.01\")\n",
    "print(\"Starting theta values: \", initial_theta )\n",
    "gradient0 =  gradient_descent(0.01, initial_theta , iteration, X, y)\n",
    "print(\"Last theta values: \", gradient0[\"theta\"])\n",
    "print(\"Cost: \", gradient0[\"last_cost\"])\n",
    "\n",
    "# plotting the costs\n",
    "values = gradient0[\"costs\"]\n",
    "fig = plt.figure()\n",
    "plt.plot(values)\n",
    "\n",
    "plt.show()\n",
    "\n",
    "# best thetas for lowest costs\n",
    "final_theta = gradient0['theta']"
   ]
  },
  {
   "cell_type": "markdown",
   "metadata": {},
   "source": [
    "#### Testing with different theta arrays\n",
    "Cells need to be converted to code"
   ]
  },
  {
   "cell_type": "markdown",
   "metadata": {},
   "source": [
    "thetas1 = np.array([1.,0.5,0.3])\n",
    "print(\"iterations: 1000, alpha: 0.01\")\n",
    "print(\"Starting theta values: \", thetas1)\n",
    "gradient1 =  gradient_descent(0.01, thetas1, 1000, X, y)\n",
    "print(\"Last theta values: \", gradient1[\"theta\"])\n",
    "print(\"Cost: \", gradient1[\"last_cost\"])\n",
    "\n",
    "#plotting the cost\n",
    "values = gradient1[\"costs\"]\n",
    "fig = plt.figure()\n",
    "plt.plot(values)\n",
    "\n",
    "plt.show()"
   ]
  },
  {
   "cell_type": "markdown",
   "metadata": {},
   "source": [
    "thetas2 = np.array([0.5,0.5,0.3])\n",
    "print(\"iterations: 2000, alpha: 0.01\")\n",
    "print(\"Starting theta values: \", thetas2)\n",
    "gradient2 =  gradient_descent(0.01, thetas2, 2000, X, y)\n",
    "print(\"Last theta values: \", gradient2[\"theta\"])\n",
    "print(\"Cost: \", gradient2[\"last_cost\"])\n",
    "\n",
    "#plotting the costs\n",
    "plt.plot(gradient2[\"costs\"])\n",
    "plt.show()"
   ]
  },
  {
   "cell_type": "markdown",
   "metadata": {},
   "source": [
    "thetas3 = np.array([0.5,0.3,0.1])\n",
    "print(\"iterations: 2000, alpha: 0.01\")\n",
    "print(\"Starting theta values: \", thetas3)\n",
    "gradient3 =  gradient_descent(0.01, thetas3, 2000, X,y)\n",
    "print(\"Last theta values: \", gradient3[\"theta\"])\n",
    "print(\"Cost: \", gradient3[\"last_cost\"])\n",
    "\n",
    "#plotting the costs\n",
    "plt.plot(gradient3[\"costs\"])\n",
    "plt.show()\n"
   ]
  },
  {
   "cell_type": "markdown",
   "metadata": {},
   "source": [
    "thetas4 = np.array([1, 0.5, 2])#same values as in theta_log-array (s. oben)\n",
    "print(\"iterations: 2500, alpha: 0.01\")\n",
    "print(\"Starting theta values: \", thetas4)\n",
    "gradient4 =  gradient_descent(0.01, thetas4, 2500, X, y)\n",
    "print(\"Last theta values: \", gradient4[\"theta\"])\n",
    "print(\"Cost: \", gradient4[\"last_cost\"])\n",
    "\n",
    "#plotting the costs\n",
    "plt.plot(gradient4[\"costs\"])\n",
    "plt.show()"
   ]
  },
  {
   "cell_type": "markdown",
   "metadata": {},
   "source": [
    "thetas5 = np.array([0.5, 0.5, 0.5])#same values as in theta_log-array (s. oben)\n",
    "print(\"iterations: 2000, alpha: 0.01\")\n",
    "print(\"Starting theta values: \", thetas5)\n",
    "gradient5 =  gradient_descent(0.01, thetas5, 2000, X,y)\n",
    "print(\"Last theta values: \", gradient5[\"theta\"])\n",
    "print(\"Cost: \", gradient5[\"last_cost\"])\n",
    "\n",
    "#plotting the costs\n",
    "plt.plot(gradient5[\"costs\"])\n",
    "plt.show()"
   ]
  },
  {
   "cell_type": "markdown",
   "metadata": {},
   "source": [
    "## Aufgabe 6\n",
    "#### Zeichen Sie die Entscheidungsebene in den Scatter-Plot der Daten.\n",
    "Hinweis: Für diese gilt: theta[0] + theta[1] * x1 + theta[2] * x2 = 0.5\n"
   ]
  },
  {
   "cell_type": "markdown",
   "metadata": {},
   "source": [
    "### Decision boundary"
   ]
  },
  {
   "cell_type": "code",
   "execution_count": null,
   "metadata": {
    "collapsed": true
   },
   "outputs": [],
   "source": [
    "def plot_decision_boundary(X,theta, y_):\n",
    "    #Definition von einem Range in den X-Werten\n",
    "    plot_x = np.array([min(X[:,1])-2, max(X[:,1])+2])\n",
    "    plot_y = -(theta[1]*plot_x + theta[0])/theta[2]\n",
    "    return plot_x, plot_y"
   ]
  },
  {
   "cell_type": "markdown",
   "metadata": {},
   "source": [
    "## 2D-Plot"
   ]
  },
  {
   "cell_type": "code",
   "execution_count": null,
   "metadata": {
    "collapsed": true
   },
   "outputs": [],
   "source": [
    "new_thetas = final_theta\n",
    "\n",
    "posX1 = X[:,1][y==0]\n",
    "posX2 = X[:,2][y==0]\n",
    "\n",
    "negX1 = X[:,1][y==1]\n",
    "negX2 = X[:,2][y==1]\n",
    "\n",
    "plt.figure(\"2D Plot\")\n",
    "\n",
    "plt.scatter(posX1, posX2, color='blue', marker=\"x\", label=\"Class1\")\n",
    "plt.scatter(negX1, negX2, color='red', marker=\"o\", label=\"Class0\")\n",
    "\n",
    "plot_x = X[:,1]\n",
    "plot_y = -(new_thetas [1]*plot_x +new_thetas[0])/new_thetas[2]\n",
    "plotx, ploty = plot_decision_boundary(X, new_thetas,y)\n",
    "plt.plot(plotx, ploty, color='k')\n",
    "\n",
    "plt.legend()\n",
    "plt.show()"
   ]
  },
  {
   "cell_type": "markdown",
   "metadata": {},
   "source": [
    "# Regularization"
   ]
  },
  {
   "cell_type": "markdown",
   "metadata": {},
   "source": [
    "## Aufgabe 7\n",
    "#### Berechnen Sie den Klassifikationsfehler, d.h. der Anteil der falsch-klassifizierten Datensätze:\n",
    "Klassifikationsfehler = Anzahl der falsch-klassifizierten Datensätze / Anzahl der Datensätze"
   ]
  },
  {
   "cell_type": "code",
   "execution_count": null,
   "metadata": {
    "collapsed": true
   },
   "outputs": [],
   "source": [
    "# false classified y=0\n",
    "false_class1 = X[y==1][h(X[y == 1]) < 0.5]\n",
    "false_1 = false_class1.shape[0]\n",
    "false_1"
   ]
  },
  {
   "cell_type": "code",
   "execution_count": null,
   "metadata": {
    "collapsed": true
   },
   "outputs": [],
   "source": [
    "# false classified y=0\n",
    "false_class0 = X[y==0][h(X[y == 0]) >= 0.5]\n",
    "false_0 = false_class0.shape[0]\n",
    "false_0"
   ]
  },
  {
   "cell_type": "code",
   "execution_count": null,
   "metadata": {
    "collapsed": true,
    "scrolled": true
   },
   "outputs": [],
   "source": [
    "# false classified / amount of training data\n",
    "m = train_samples\n",
    "#'<' not supported between instances of 'function' and 'float'\n",
    "#(X[y==1][h(X[y == 1])<0.5].shape[0] + X[y==0][h(X[y==0])>=0.5].shape[0])/m #\n",
    "\n",
    "class_error = (false_1+false_0)/m\n",
    "print(\"Klassifizierungsfehler: \", class_error)\n",
    "print(\"Klassifizierungsfehler in Prozent: \", round(class_error*100, 2), \"%\")"
   ]
  },
  {
   "cell_type": "code",
   "execution_count": null,
   "metadata": {
    "collapsed": true
   },
   "outputs": [],
   "source": [
    "#Alternative Berechnung, falls obige Berechnung Exception wirft\n",
    "#Berechnung tut genau dasselbe\n",
    "h = logistic_hypothesis(new_thetas)\n",
    "ya = h(X)\n",
    "res = 0\n",
    "for i in range (len(y)):\n",
    "    if(ya[i]>=0.5):\n",
    "        temp=1\n",
    "    else:\n",
    "        temp=0\n",
    "    if(temp!=y[i]):\n",
    "        res = res+1\n",
    "print((res/len(y))*100,\"%\")"
   ]
  },
  {
   "cell_type": "markdown",
   "metadata": {},
   "source": [
    "## Aufgabe 8\n",
    "#### Erweitern Sie die Kostenfunktion um den Regulierungsterm lambda_reg\n",
    "\n",
    "Normale cost function: def cost_function(loss_, theta, train): return -(1./m) * loss_(theta).sum()\n",
    "\n",
    "$J(\\theta) = \\frac{1}{m}\\sum_{i=1}^m(-y_i log(h_i(\\theta)) - (1-y_i)log(1-h_i(\\theta))) + \\frac{\\lambda}{2m}\\sum_{j=1}^n\\theta_j^2$"
   ]
  },
  {
   "cell_type": "code",
   "execution_count": null,
   "metadata": {
    "collapsed": true
   },
   "outputs": [],
   "source": [
    "def cost_function_reg2(loss, train, theta, lambda_reg):\n",
    "    m = train\n",
    "    return (-1)*(1./m)*loss(theta).sum() + lambda_reg*(1./(2*m))*(theta[1:,]**2).sum()\n",
    "\n",
    "# test \n",
    "print (\"test of cost_function_reg2:\")\n",
    "l_reg = 2000\n",
    "thetas =  np.array([0, 0.5, 0.5])\n",
    "\n",
    "j = cost_function_reg2(loss, train_samples, thetas, l_reg)\n",
    "print(j)"
   ]
  },
  {
   "cell_type": "markdown",
   "metadata": {},
   "source": [
    "## Aufgabe 9\n",
    "#### Erweitern Sie den Gradientenabstieg um den Regulierungsterm lambda_reg"
   ]
  },
  {
   "cell_type": "code",
   "execution_count": null,
   "metadata": {
    "collapsed": true
   },
   "outputs": [],
   "source": [
    "def compute_new_theta_reg(X, y, theta, alpha, hypothesis, lam):\n",
    "    # make an array of lambdas\n",
    "    lamarray = np.ones(len(theta)) * lam\n",
    "    # zero out first element so we don't regularize constant term\n",
    "    lamarray[0] = 0.0\n",
    "    \n",
    "    m = y.shape[0]\n",
    "    \n",
    "    new_thetas = theta - (alpha * ((1.0/m)*np.dot(X.T,((hypothesis(theta)(X)) - y)) + (lamarray*theta)*(1.0/m)))\n",
    "    return new_thetas\n",
    "\n",
    "# test\n",
    "h = logistic_hypothesis\n",
    "lam_test = 1000\n",
    "print(\"test of compute_new_theta_reg:\")\n",
    "print(compute_new_theta_reg(X, y, thetas, 0.01, h, lam_test))"
   ]
  },
  {
   "cell_type": "code",
   "execution_count": null,
   "metadata": {
    "collapsed": true
   },
   "outputs": [],
   "source": [
    "def gradient_descent_reg2(alpha, theta, nb_iterations, X_, y, lam):\n",
    "    #Stores costs for each iteration\n",
    "    costs = [] #cost = np.zeros(nb_iterations)\n",
    "       \n",
    "    #stores changes in theta for each iteration\n",
    "    temp_thetas = np.matrix(np.zeros(X_.shape))\n",
    "    \n",
    "    loss = cross_entropy(logistic_hypothesis, X_, y)\n",
    "    \n",
    "    #starting cost value\n",
    "    j = cost_function_reg2(loss, X_.shape[0], theta, lam)\n",
    "    \n",
    "    costs.append(j)   \n",
    "    \n",
    "    #Iterates all nb_iterations\n",
    "    for i in range(nb_iterations-1):\n",
    "        #compute new thetas\n",
    "        temp_thetas = compute_new_theta_reg(X_,y,theta,alpha,logistic_hypothesis, lam)\n",
    "        #update\n",
    "        theta = temp_thetas\n",
    "        \n",
    "        #new cost function is computed \n",
    "        loss = cross_entropy(logistic_hypothesis, X_, y)\n",
    "        j = cost_function_reg2(loss, X_.shape[0], theta, lam)\n",
    "        cost = j\n",
    "        #new cost appended\n",
    "        costs.append(cost)\n",
    "\n",
    "    return {'theta': theta, \"costs\": costs, \"last_cost\": costs[nb_iterations-1]}"
   ]
  },
  {
   "cell_type": "code",
   "execution_count": null,
   "metadata": {
    "collapsed": true
   },
   "outputs": [],
   "source": [
    "initial_theta = np.zeros(3)\n",
    "iteration = 15000\n",
    "print(\"iterations: 15000, alpha: 0.01\")\n",
    "print(\"Starting theta values: \", initial_theta )\n",
    "gradient0 =  gradient_descent_reg2(0.01, initial_theta , iteration, X, y, lam_test)\n",
    "print(\"Last theta values with regularization: \", gradient0[\"theta\"])\n",
    "print(\"Cost: \", gradient0[\"last_cost\"])\n",
    "\n",
    "# plotting the regulized costs\n",
    "values = gradient0[\"costs\"]\n",
    "fig = plt.figure()\n",
    "plt.plot(values)\n",
    "\n",
    "plt.show()\n",
    "\n",
    "final_theta_reg = gradient0['theta']"
   ]
  },
  {
   "cell_type": "code",
   "execution_count": null,
   "metadata": {
    "collapsed": true
   },
   "outputs": [],
   "source": [
    "new_thetas = final_theta_reg\n",
    "\n",
    "\n",
    "posX1 = X[:,1][y==0]\n",
    "posX2 = X[:,2][y==0]\n",
    "\n",
    "negX1 = X[:,1][y==1]\n",
    "negX2 = X[:,2][y==1]\n",
    "\n",
    "plt.figure(\"2D Plot\")\n",
    "\n",
    "plt.scatter(posX1, posX2, color='blue', marker=\"x\", label=\"Class1\")\n",
    "plt.scatter(negX1, negX2, color='red', marker=\"o\", label=\"Class0\")\n",
    "\n",
    "plot_x = X[:,1]\n",
    "plot_y = -(new_thetas [1]*plot_x +new_thetas[0])/new_thetas[2]\n",
    "plotx, ploty = plot_decision_boundary(X, new_thetas,y)\n",
    "plt.plot(plotx, ploty, color='k')\n",
    "\n",
    "plt.legend()\n",
    "plt.show()"
   ]
  },
  {
   "cell_type": "markdown",
   "metadata": {},
   "source": [
    "# Beleg3 - Bias Variance Analyse"
   ]
  },
  {
   "cell_type": "markdown",
   "metadata": {
    "collapsed": true
   },
   "source": [
    "#### Theorie: http://christianherta.de/lehre/dataScience/machineLearning/basics/bias-variance-tradeoff.php"
   ]
  },
  {
   "cell_type": "markdown",
   "metadata": {},
   "source": [
    "Implementieren Sie die Simulation zur Berechung des Bias-Variance für zwei Datenpunkte:\n",
    "\n",
    "- p(x) ist gleichverteilt im Intervall $[0, 2*pi]$\n",
    "    - Recall: $h_\\theta(x) = p(x) = g(\\theta^Tx)$ --> sigmoid\n",
    "- unbekannte Targetfunktion ist sin(x)\n",
    "- kein Rauschen\n",
    "- Erzeugen Sie z.B. 10000 verschiedene Trainingsdaten mit jeweils zwei Beispielen\n",
    "    - Build 10000 datasets with 2 data each\n",
    "- Bestimmen Sie die gefundenen Hypothesen für die beiden Hypothesenmengen (für die einzelnen Trainingsdaten):\n",
    "- Hypothesenmenge H_0: h = theta_0\n",
    "- Hypothesenmenge H_1: h = theta_0 + theta_1 * x\n",
    "- Berechnen Sie hieraus E_out für H_1 und H_2\n",
    "- Bestimmen Sie die durchschnittliche Hypothese für H_0 und H_1.\n",
    "- Bestimmen Sie  damit den Bias und die Variance.\n",
    "\n",
    "Erzeugen Sie die Plots  und die Ausgaben wie in http://christianherta.de/lehre/dataScience/machineLearning/basics/bias-variance-tradeoff.html"
   ]
  },
  {
   "cell_type": "markdown",
   "metadata": {},
   "source": [
    "### Bias-Variance Tradeoff"
   ]
  },
  {
   "cell_type": "code",
   "execution_count": 122,
   "metadata": {},
   "outputs": [
    {
     "name": "stdout",
     "output_type": "stream",
     "text": [
      "[-0.68203067 -0.74011035 -0.21570239 -0.58404278  0.35328031  0.88226139\n",
      " -0.58972167 -0.31122186 -0.69187013 -0.97822058]\n",
      "[  2.28514009e+00   2.36655699e+00   6.02563354e-04   2.05477901e+00\n",
      "   4.71998905e-01   3.90760396e-02   1.60880272e+00   1.49945795e+00\n",
      "   2.32542345e+00   3.06473724e+00]\n"
     ]
    }
   ],
   "source": [
    "import numpy as np\n",
    "import matplotlib.pyplot as plt \n",
    "\n",
    "# fixieren der random erzeugten Werte\n",
    "np.random.seed(1)\n",
    "\n",
    "#Anzahl der Daten\n",
    "N = 10000\n",
    "\n",
    "#Array der X1\n",
    "x1 = np.random.uniform(0,2*np.pi, N)\n",
    "x2 = np.random.uniform(0,2*np.pi, N)\n",
    "\n",
    "#Matrix der x1 und x2\n",
    "X = np.column_stack((x1,x2))\n",
    "\n",
    "y1 = np.sin(x1)\n",
    "y2 = np.sin(x2)\n",
    "\n",
    "#x ordentlich auf linspace\n",
    "x_ = np.linspace(0, 2*np.pi, N)\n",
    "\n",
    "#Berechnung der theta0s\n",
    "#theta0_old = (np.sin(x2)+np.sin(x1))/2\n",
    "\n",
    "#Formel aus Vorlesung\n",
    "theta0 = (y2+y1)/2\n",
    "#H0\n",
    "H0 = theta0.copy()\n",
    "\n",
    "\n",
    "#Berechnung der theta1s\n",
    "theta1 = (y2-y1)/(x2-x1)\n",
    "print(theta1[:10])\n",
    "\n",
    "#Kanonische Formel zur Berechnung von theta0\n",
    "#y-Achsenschnitt für Hypothese 1 sprich ihre theta0s\n",
    "theta0_for_h1 = y1-(theta1*x1)\n",
    "\n",
    "\n",
    "h1_array = []\n",
    "#Lista che salva la intersezione con le assi e i theta1 - coefficienti angolari\n",
    "for (y_axis,m) in zip(theta0_for_h1,theta1):\n",
    "    h1_array.append([y_axis,m])\n",
    "\n",
    "#Hypothese Modell 2\n",
    "H1 = (theta0_for_h1 + theta1 * x_)\n",
    "print(H1[:10])"
   ]
  },
  {
   "cell_type": "code",
   "execution_count": 139,
   "metadata": {},
   "outputs": [
    {
     "name": "stdout",
     "output_type": "stream",
     "text": [
      "[ 0.5801805   4.52593227]\n",
      "-0.387972242363\n"
     ]
    },
    {
     "data": {
      "image/png": "[encoded data removed]",
      "text/plain": [
       "<matplotlib.figure.Figure at 0x9095afa860>"
      ]
     },
     "metadata": {},
     "output_type": "display_data"
    }
   ],
   "source": [
    "x_punkt= np.array((x1[5],x1[1]))\n",
    "print(x_punkt)\n",
    "y_punkt = np.array((y1[5], y1[1])) # y = sin \n",
    "\n",
    "theta1_ = (y1[1]-y1[5])/(x1[1]-x1[5])\n",
    "print(theta1_)\n",
    "#theta0_for_h1 = y1-(theta1*x1)\n",
    "theta0_ = y1[5] - (theta1_*x1[5])\n",
    "#sin funxtion\n",
    "plt.plot(new_xs, np.sin(x_),'b-')\n",
    "plt.scatter(x_punkt,y_punkt,color='r')\n",
    "plt.plot(new_xs,  theta0_ + theta1_ *new_xs, 'g-')\n",
    "plt.show()"
   ]
  },
  {
   "cell_type": "code",
   "execution_count": 119,
   "metadata": {},
   "outputs": [
    {
     "name": "stdout",
     "output_type": "stream",
     "text": [
      "0.748940391777\n"
     ]
    },
    {
     "data": {
      "image/png": "[encoded data removed]",
      "text/plain": [
       "<matplotlib.figure.Figure at 0x909483c048>"
      ]
     },
     "metadata": {},
     "output_type": "display_data"
    }
   ],
   "source": [
    "#Durchschnitte der Thetas für H0\n",
    "theta0_avg = np.mean(theta0)\n",
    "\n",
    "#Durchschnitt der thetas1\n",
    "theta1_avg = np.mean(theta1)\n",
    "\n",
    "#Durchschnitt der thetas0 der H1\n",
    "theta0_for_h1_mean = np.mean(theta0_for_h1)\n",
    "\n",
    "print(theta0_for_h1_mean)\n",
    "\n",
    "##### Alternative für theta0_mean\n",
    "h1_means = [np.mean(x) for x in zip(*h1_array)] \n",
    "t0_h1_mean = h1_means[0]\n",
    "t1_h1_mean = h1_means[1]\n",
    "\n",
    "\n",
    "#FUnktion zur Berechnung der H1s\n",
    "#h1 = lambda x: (theta0_for_h1_mean + theta1_avg*x)\n",
    "\n",
    "#Durchschnittliche Hypothese H1\n",
    "h1 = lambda x: (t0_h1_mean+t1_h1_mean*x)\n",
    "\n",
    "#new_xs = np.linspace(0,2*np.pi, N)\n",
    "y_for_h0 = np.full(N, theta0_avg)\n",
    "\n",
    "plt.plot(new_xs, np.sin(x_)) #sin funxtion\n",
    "plt.plot(new_xs, y_for_h0) # constant\n",
    "plt.plot(new_xs, h1(x_))#gerade\n",
    "\n",
    "\n",
    "\n",
    "plt.show()"
   ]
  },
  {
   "cell_type": "code",
   "execution_count": 121,
   "metadata": {
    "scrolled": true
   },
   "outputs": [
    {
     "name": "stdout",
     "output_type": "stream",
     "text": [
      "Bias h0:  0.500538312497\n",
      "Bias h1:  0.208188110883\n",
      "Variance h0:  0.25647471568\n",
      "Variance h1:  1.71811998898\n"
     ]
    }
   ],
   "source": [
    "#Bias und Varianz\n",
    "h0_y = y_for_h0[0]\n",
    "\n",
    "bias_h0 = np.mean((h0_y - np.sin(X))**2)\n",
    "print(\"Bias h0: \", bias_h0)\n",
    "\n",
    "bias_h1 = np.mean((h1(X) - np.sin(X))**2)\n",
    "print(\"Bias h1: \", bias_h1)\n",
    "\n",
    "# Varianz\n",
    "# Durchschnittliche Hypothese für Modell0 - Hypothesenmenge H0 = theta0\n",
    "var_h0 = np.mean((h0_y - theta0)**2)\n",
    "print(\"Variance h0: \", var_h0)\n",
    "\n",
    "#durchschnittliche Hypothese auf den Werten x_\n",
    "#minus Hypothesenmenge aus Modell 1\n",
    "var_h1 = np.mean((h1(x_) - H1)**2)\n",
    "print(\"Variance h1: \", var_h1)\n"
   ]
  },
  {
   "cell_type": "code",
   "execution_count": 113,
   "metadata": {},
   "outputs": [
    {
     "name": "stdout",
     "output_type": "stream",
     "text": [
      "model 2: E_out ≈ bias + variance:  0.757013 ≈ 0.500538 + 0.256475\n"
     ]
    }
   ],
   "source": [
    "expectation_Eout_0 = bias_h0+var_h0\n",
    "print(\"model 2: E_out ≈ bias + variance:  %f ≈ %f + %f\" % (expectation_Eout_0, bias_h0, var_h0))"
   ]
  },
  {
   "cell_type": "code",
   "execution_count": 112,
   "metadata": {},
   "outputs": [
    {
     "name": "stdout",
     "output_type": "stream",
     "text": [
      "model 2: E_out ≈ bias + variance:  1.926308 ≈ 0.208188 + 1.718120\n"
     ]
    }
   ],
   "source": [
    "expectation_Eout_1 = bias_h1+var_h1\n",
    "print(\"model 2: E_out ≈ bias + variance:  %f ≈ %f + %f\" % (expectation_Eout_1, bias_h1, var_h1))"
   ]
  }
 ],
 "metadata": {
  "kernelspec": {
   "display_name": "Python 3",
   "language": "python",
   "name": "python3"
  },
  "language_info": {
   "codemirror_mode": {
    "name": "ipython",
    "version": 3
   },
   "file_extension": ".py",
   "mimetype": "text/x-python",
   "name": "python",
   "nbconvert_exporter": "python",
   "pygments_lexer": "ipython3",
   "version": "3.6.2"
  }
 },
 "nbformat": 4,
 "nbformat_minor": 1
}
